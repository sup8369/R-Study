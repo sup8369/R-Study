{
 "cells": [
  {
   "cell_type": "markdown",
   "metadata": {},
   "source": [
    "# Day 1 - 데이터 수집 및 로드 / 필요 패키지 설치"
   ]
  },
  {
   "cell_type": "markdown",
   "metadata": {},
   "source": [
    "# 패키지 설치"
   ]
  },
  {
   "cell_type": "code",
   "execution_count": null,
   "metadata": {},
   "outputs": [],
   "source": [
    "install.packages(\"dplyr\")\n",
    "install.packages(\"descr\")\n",
    "install.packages(\"DT\")\n",
    "install.packages(\"ggplot2\")\n",
    "install.packages(\"ISLR\")\n",
    "install.packages(\"MASS\")\n",
    "install.packages(\"glmnet\")\n",
    "install.packages(\"randomForest\")\n",
    "install.packages(\"rpart\")\n",
    "install.packages(\"ROCR\")"
   ]
  },
  {
   "cell_type": "markdown",
   "metadata": {},
   "source": [
    "# 라이브러리 로드"
   ]
  },
  {
   "cell_type": "code",
   "execution_count": null,
   "metadata": {},
   "outputs": [],
   "source": [
    "## MOUNTING LIBRARY\n",
    "library(dplyr)\n",
    "library(descr)\n",
    "library(DT)\n",
    "library(ggplot2)\n",
    "library(ISLR)\n",
    "library(MASS)\n",
    "library(glmnet)\n",
    "library(randomForest)\n",
    "library(rpart)\n",
    "library(ROCR)"
   ]
  },
  {
   "cell_type": "markdown",
   "metadata": {},
   "source": [
    "# 데이터 패스 지정 / 로드"
   ]
  },
  {
   "cell_type": "code",
   "execution_count": null,
   "metadata": {},
   "outputs": [],
   "source": [
    "setwd(\"E:/Jupyter/datasets\")\n",
    "getwd()"
   ]
  },
  {
   "cell_type": "code",
   "execution_count": null,
   "metadata": {},
   "outputs": [],
   "source": [
    "mushrooms <- read.csv(\"mushrooms.csv\", header = T)"
   ]
  },
  {
   "cell_type": "markdown",
   "metadata": {},
   "source": [
    " \n",
    "# 데이터 정보\n",
    "\n",
    "<div style=\"width: 800px;\">\n",
    "    \n",
    "\n",
    "| 변수명 | 변수설명\n",
    "| :----:| ----:\n",
    "|class)|**식용가능** = e, **독성** = p\n",
    "|cap-shape|bell = b, conical = c, convex = x, flat = f, knobbed = k, sunken = s\n",
    "|cap-surface|fibrous = f, grooves = g, scaly = y, smooth = s\n",
    "|cap-color|brown = n, buff = b, cinnamon = c, gray = g, green = r, pink = p, purple = u, red = e, white = w, yellow = y\n",
    "|bruises|bruises = t, no = f\n",
    "|odor|almond = a, anise = l, creosote = c, fishy = y, foul = f, musty = m, none = n, pungent = p, spicy = s\n",
    "|gill-attachment|attached = a, descending = d, free = f, notched = n\n",
    "|gill-spacing|close = c, crowded = w, distant = d\n",
    "|gill-size|broad = b, narrow = n\n",
    "|gill-color|black = k, brown = n, buff = b, chocolate = h, gray = g, green = r, orange = o, pink = p, purple = u, red = e, white = w, yellow = y\n",
    "|stalk-shape|enlarging = e, tapering = t\n",
    "|stalk-root|bulbous = b, club = c, cup = u, equal = e, rhizomorphs = z, rooted = r, missing = ?\n",
    "|stalk-surface-above-ring|fibrous = f, scaly = y, silky = k, smooth = s\n",
    "|stalk-surface-below-ring|fibrous = f, scaly = y, silky = k, smooth = s\n",
    "|stalk-color-above-ring|brown = n, buff = b, cinnamon = c, gray = g, orange = o, pink = p, red = e, white = w, yellow = y\n",
    "|stalk-color-below-ring|brown = n, buff = b, cinnamon = c, gray = g, orange = o,pink = p, red = e, white = w, yellow = y\n",
    "|veil-type|partial = p, universal = u\n",
    "|veil-color|brown = n, orange = o, white = w, yellow = y\n",
    "|ring-number|none = n, one = o, two = t\n",
    "|ring-type|cobwebby = c, evanescent = e, flaring = f, large = l, none = n, pendant = p, sheathing = s, zone = z\n",
    "|spore-print-color|black = k, brown = n, buff = b, chocolate = h, green = r, orange =o, purple = u, white = w, yellow = y\n",
    "|population|abundant = a, clustered = c, numerous = n, scattered = s, several = v, solitary = y\n",
    "|habitat|grasses = g, leaves = l, meadows = m, paths = p, urban = u, waste = w, woods = d\n",
    "\n",
    "\n",
    " </div>"
   ]
  },
  {
   "cell_type": "markdown",
   "metadata": {},
   "source": [
    "# 데이터 확인"
   ]
  },
  {
   "cell_type": "code",
   "execution_count": null,
   "metadata": {},
   "outputs": [],
   "source": [
    "DT::datatable(mushrooms)"
   ]
  },
  {
   "cell_type": "code",
   "execution_count": null,
   "metadata": {},
   "outputs": [],
   "source": [
    "CrossTable(mushrooms$class)"
   ]
  },
  {
   "cell_type": "markdown",
   "metadata": {},
   "source": [
    "##### 로드된 데이터중: 식용가능 버섯 비율: 0.518 / 독버섯 비율 : 0.482\n",
    "# 　"
   ]
  },
  {
   "cell_type": "code",
   "execution_count": null,
   "metadata": {},
   "outputs": [],
   "source": [
    "descr::CrossTable(mushrooms$stalk.root)"
   ]
  },
  {
   "cell_type": "code",
   "execution_count": null,
   "metadata": {
    "scrolled": false
   },
   "outputs": [],
   "source": [
    "mushrooms %>%\n",
    "ggplot(aes(stalk.root)) + geom_bar()"
   ]
  },
  {
   "cell_type": "markdown",
   "metadata": {},
   "source": [
    "# Day 2 - Preprocessing"
   ]
  },
  {
   "cell_type": "code",
   "execution_count": null,
   "metadata": {},
   "outputs": [],
   "source": [
    "mushrooms <- mushrooms[, -17]"
   ]
  },
  {
   "cell_type": "markdown",
   "metadata": {},
   "source": [
    "###### 모든 값이 'w' 인 무의미한 변수 제거"
   ]
  },
  {
   "cell_type": "code",
   "execution_count": null,
   "metadata": {},
   "outputs": [],
   "source": [
    "str(mushrooms)"
   ]
  },
  {
   "cell_type": "code",
   "execution_count": null,
   "metadata": {},
   "outputs": [],
   "source": [
    "summary(mushrooms)"
   ]
  },
  {
   "cell_type": "markdown",
   "metadata": {},
   "source": [
    "# Day 3 - 탐색적 데이터 분석"
   ]
  },
  {
   "cell_type": "code",
   "execution_count": null,
   "metadata": {},
   "outputs": [],
   "source": [
    "# 식용/독성 버섯뚜껑 색상\n",
    "mushrooms %>%\n",
    "group_by(class) %>%\n",
    "ggplot(aes(cap.color, fill = class)) + geom_bar(position = \"dodge\")"
   ]
  },
  {
   "cell_type": "code",
   "execution_count": null,
   "metadata": {},
   "outputs": [],
   "source": [
    "# 식용/독성 버섯 냄새\n",
    "\n",
    "mushrooms %>%\n",
    "group_by(class) %>%\n",
    "ggplot(aes(odor, fill = class)) + geom_bar(position = \"dodge\")"
   ]
  },
  {
   "cell_type": "code",
   "execution_count": null,
   "metadata": {},
   "outputs": [],
   "source": [
    "mosaicplot( ~ cap.color + class, data = mushrooms, color=T,cex=1.2)"
   ]
  },
  {
   "cell_type": "markdown",
   "metadata": {},
   "source": [
    "# Day 4 - 데이터 분할\n",
    "#### 데이터를 트레이닝/검증/테스트데이터 비율로 나누기"
   ]
  },
  {
   "cell_type": "code",
   "execution_count": null,
   "metadata": {},
   "outputs": [],
   "source": [
    "n <- nrow(mushrooms)\n",
    "idx <- 1:n "
   ]
  },
  {
   "cell_type": "code",
   "execution_count": null,
   "metadata": {},
   "outputs": [],
   "source": [
    "training.idx <- sample(idx, n * .60) # 전체 데이터에서 60% 만큼을 트레이닝 데이터로 사용"
   ]
  },
  {
   "cell_type": "code",
   "execution_count": null,
   "metadata": {},
   "outputs": [],
   "source": [
    "idx <- setdiff(idx, training.idx) "
   ]
  },
  {
   "cell_type": "code",
   "execution_count": null,
   "metadata": {},
   "outputs": [],
   "source": [
    "validation.idx <- sample(idx, n * .20)  # 20%를 검증 데이터로\n",
    "test.idx <- setdiff(idx, validation.idx) # 나머지 값을 테스트 데이터로"
   ]
  },
  {
   "cell_type": "code",
   "execution_count": null,
   "metadata": {},
   "outputs": [],
   "source": [
    "length(training.idx)  # 트레이닝 데이터 개수"
   ]
  },
  {
   "cell_type": "code",
   "execution_count": null,
   "metadata": {},
   "outputs": [],
   "source": [
    "length(validation.idx)  # 검증 데이터 개수"
   ]
  },
  {
   "cell_type": "code",
   "execution_count": null,
   "metadata": {},
   "outputs": [],
   "source": [
    "length(test.idx) # 테스트 데이터 개수"
   ]
  },
  {
   "cell_type": "code",
   "execution_count": null,
   "metadata": {},
   "outputs": [],
   "source": [
    "training <- mushrooms[training.idx, ]\n",
    "validation <- mushrooms[validation.idx, ]\n",
    "test <- mushrooms[test.idx, ]"
   ]
  },
  {
   "cell_type": "markdown",
   "metadata": {},
   "source": [
    "#### 모델만들기"
   ]
  },
  {
   "cell_type": "code",
   "execution_count": null,
   "metadata": {},
   "outputs": [],
   "source": [
    "mushrooms_rf <- randomForest(class ~ . , training)\n",
    "mushrooms_rf"
   ]
  },
  {
   "cell_type": "code",
   "execution_count": null,
   "metadata": {},
   "outputs": [],
   "source": [
    "importance(mushrooms_rf)"
   ]
  },
  {
   "cell_type": "code",
   "execution_count": null,
   "metadata": {},
   "outputs": [],
   "source": [
    "varImpPlot(mushrooms_rf) # 영향력이 높은 주요 변수들을 확인"
   ]
  },
  {
   "cell_type": "markdown",
   "metadata": {},
   "source": [
    "# Day 5 - 분류 분석"
   ]
  },
  {
   "cell_type": "code",
   "execution_count": null,
   "metadata": {},
   "outputs": [],
   "source": [
    "head(test, 10) # 테스트 데이터 세트"
   ]
  },
  {
   "cell_type": "code",
   "execution_count": null,
   "metadata": {},
   "outputs": [],
   "source": [
    "result <- predict(mushrooms_rf, newdata = test, type = \"prob\")[, 'e']"
   ]
  },
  {
   "cell_type": "markdown",
   "metadata": {},
   "source": [
    "#### 결과 / 식용: 1, 독성: 0"
   ]
  },
  {
   "cell_type": "code",
   "execution_count": null,
   "metadata": {},
   "outputs": [],
   "source": [
    "head(result, 10)"
   ]
  },
  {
   "cell_type": "markdown",
   "metadata": {},
   "source": [
    "# 데이터 시각화"
   ]
  },
  {
   "cell_type": "markdown",
   "metadata": {},
   "source": [
    "#### 냄새 특징으로 구분하는 식용/독성 버섯"
   ]
  },
  {
   "cell_type": "code",
   "execution_count": null,
   "metadata": {},
   "outputs": [],
   "source": [
    "disp <- ggplot(mushrooms, aes(class, odor)) \n",
    "disp + geom_jitter(aes(color = class)) + scale_color_manual(values=c(\"green\", \"red\"))"
   ]
  },
  {
   "cell_type": "markdown",
   "metadata": {},
   "source": [
    "#### 포자 색상으로 구분하는 식용/독성 버섯"
   ]
  },
  {
   "cell_type": "code",
   "execution_count": null,
   "metadata": {},
   "outputs": [],
   "source": [
    "asd <- ggplot(mushrooms, aes(class, spore.print.color))\n",
    "asd + geom_jitter(aes(color = spore.print.color)) + scale_color_manual(values=c(\"khaki1\",\"chocolate\",\"black\",\"saddlebrown\",\"orange\",\"green\",\"purple\",\"white\",\"yellow\"))"
   ]
  },
  {
   "cell_type": "markdown",
   "metadata": {},
   "source": [
    "# Day 6 - 분석결과 정리\n",
    "수집한 데이터셋을 한정으로 하여 분석한 결과,\n",
    "버섯을 구분하는데 가장 중요한 요소는 냄새와 포자의 색상이고,\n",
    "\n",
    "예를 들자면 버섯에서 아래와 같은 냄새가 나면 대부분 독이 있는 버섯이다.\n",
    "\n",
    "\n",
    "- foul 비린내 \n",
    "- spicy 매운 \n",
    "- pungent 자극적인 \n",
    "- musty 곰팡이 \n",
    "- foul 악취 \n",
    "- creosote 목재\n",
    "\n",
    "반면 anise(풀) 냄새나 almond(아몬드) 냄새가 난다면 식용 가능한 버섯으로 추측할 수 있다.\n",
    "\n",
    "다른 여러 영향력이 높은 변수들과 함께 분석하여 더 정확한 결과를 얻어낼 수 있다."
   ]
  }
 ],
 "metadata": {
  "kernelspec": {
   "display_name": "R",
   "language": "R",
   "name": "ir"
  },
  "language_info": {
   "codemirror_mode": "r",
   "file_extension": ".r",
   "mimetype": "text/x-r-source",
   "name": "R",
   "pygments_lexer": "r",
   "version": "3.6.0"
  }
 },
 "nbformat": 4,
 "nbformat_minor": 2
}
